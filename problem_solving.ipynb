{
 "cells": [
  {
   "cell_type": "markdown",
   "metadata": {},
   "source": [
    "# General approach\n",
    "Given a start state and a goal, the section on problem solving introduces a simple and elegant method to find a path from the start to the goal state. I'll call this search1 as the framework can be generalised in a number of ways that we'll explore later.\n",
    "\n",
    "The function takes 3 inputs:\n",
    "- s0: an initial state\n",
    "- successors: a function to generate new (action, state) pairs from a given state\n",
    "- checkGoal: a function to return true if the goal state is reached\n",
    "\n",
    "The function returns the path to the goal state, or an empty array if one does not exist. Depending on the size of the state space, and whether a goal state exists, the approach may continue until indefinitely or until the code crashes."
   ]
  },
  {
   "cell_type": "code",
   "execution_count": 16,
   "metadata": {
    "ExecuteTime": {
     "end_time": "2025-05-19T13:28:05.805928Z",
     "start_time": "2025-05-19T13:28:05.794928Z"
    }
   },
   "outputs": [],
   "source": [
    "def search1(s0, successors, checkGoal):\n",
    "    frontier = [[s0]]\n",
    "    explored = set()\n",
    "    explored.add(s0)\n",
    "    while frontier:\n",
    "        path = frontier.pop()\n",
    "        state = path[-1]\n",
    "        if checkGoal(state):\n",
    "            return path\n",
    "        for action, nextState in successors(state):\n",
    "            if nextState not in explored:\n",
    "                frontier.append(path + [action, nextState])\n",
    "                explored.add(nextState)\n",
    "    return []"
   ]
  },
  {
   "cell_type": "markdown",
   "metadata": {},
   "source": [
    "We can apply this to the water jug problem from Die Hard 3: \n",
    "- given jugs of capacity 3 gallons and 5 gallons\n",
    "- ...a fountain to fill the jugs up and to empty them\n",
    "- ...how can we attain a jug with exactly 4 gallons?\n",
    "\n",
    "The search function is very succinct, and for given problem we need to specify the three inputs. For the water jug problem we have...."
   ]
  },
  {
   "cell_type": "code",
   "execution_count": 17,
   "metadata": {
    "ExecuteTime": {
     "end_time": "2025-05-19T13:28:05.821932Z",
     "start_time": "2025-05-19T13:28:05.808928Z"
    }
   },
   "outputs": [],
   "source": [
    "# initial state is that both jugs are empty\n",
    "# all states will be represented by a tuple\n",
    "s0_wp = (0, 0)\n",
    "\n",
    "# define successors as fill, empty, transfer\n",
    "# abstract the specific capacities of the jugs\n",
    "def successors_wp(state, capacity1, capacity2):\n",
    "    v1 = state[0]\n",
    "    v2 = state[1]\n",
    "    v1Capacity = capacity1 - v1\n",
    "    v2Capacity = capacity2 - v2\n",
    "    return [('fill 1', (capacity1, v2)),\n",
    "            ('fill 2', (v1, capacity2)),\n",
    "            ('empty 1', (0, v2)),\n",
    "            ('empty 2', (v1, 0)),\n",
    "            ('transfer 1 -> 2', (v1 - min(v1, v2Capacity), v2 + min(v1, v2Capacity))),\n",
    "            ('transfer 2 -> 1', (v1 + min(v1Capacity, v2), v2 - min(v1Capacity, v2)))]\n",
    "\n",
    "# check for goal state\n",
    "# can be in either jug\n",
    "def checkGoal_wp(state, goal):\n",
    "    return goal in state"
   ]
  },
  {
   "cell_type": "markdown",
   "metadata": {},
   "source": [
    "Now test this with the search function. The successor and goal-check functions have been defined with parameters to generalise the probem. The search function expects a single state argument, so we apply partial function application to set the parameters."
   ]
  },
  {
   "cell_type": "code",
   "execution_count": 18,
   "metadata": {
    "ExecuteTime": {
     "end_time": "2025-05-19T13:28:05.837932Z",
     "start_time": "2025-05-19T13:28:05.823928Z"
    }
   },
   "outputs": [
    {
     "data": {
      "text/plain": [
       "[(0, 0),\n",
       " 'fill 2',\n",
       " (0, 5),\n",
       " 'transfer 2 -> 1',\n",
       " (3, 2),\n",
       " 'empty 1',\n",
       " (0, 2),\n",
       " 'transfer 2 -> 1',\n",
       " (2, 0),\n",
       " 'fill 2',\n",
       " (2, 5),\n",
       " 'transfer 2 -> 1',\n",
       " (3, 4)]"
      ]
     },
     "execution_count": 18,
     "metadata": {},
     "output_type": "execute_result"
    }
   ],
   "source": [
    "from functools import partial\n",
    "\n",
    "solution_wp = search1(s0 = s0_wp,\n",
    "                      successors = partial(successors_wp, capacity1 = 3, capacity2 = 5),\n",
    "                      checkGoal = partial(checkGoal_wp, goal = 4))\n",
    "solution_wp"
   ]
  },
  {
   "cell_type": "markdown",
   "metadata": {},
   "source": [
    "# Visualising the solution\n",
    "It's nice to visual what the solutions look like. It can give you more intuition vs. reading off a series of state-action sequences. It's also as instructive to see the path not taken as it is to see the path that gets you to the goal state.\n",
    "\n",
    "Graphviz is a great tool for doing this; it lets you specify nodes and the connections between them (edges), and then sets the graph out visually. On Python you can access this via the graphviz package. It's pretty intuitive to use e.g. to set out a simple graph with 3 nodes...."
   ]
  },
  {
   "cell_type": "code",
   "execution_count": 19,
   "metadata": {
    "ExecuteTime": {
     "end_time": "2025-05-19T13:28:06.006824Z",
     "start_time": "2025-05-19T13:28:05.841931Z"
    }
   },
   "outputs": [
    {
     "data": {
      "image/svg+xml": [
       "<?xml version=\"1.0\" encoding=\"UTF-8\" standalone=\"no\"?>\r\n",
       "<!DOCTYPE svg PUBLIC \"-//W3C//DTD SVG 1.1//EN\"\r\n",
       " \"http://www.w3.org/Graphics/SVG/1.1/DTD/svg11.dtd\">\r\n",
       "<!-- Generated by graphviz version 2.38.0 (20140413.2041)\r\n",
       " -->\r\n",
       "<!-- Title: %3 Pages: 1 -->\r\n",
       "<svg width=\"134pt\" height=\"116pt\"\r\n",
       " viewBox=\"0.00 0.00 134.00 116.00\" xmlns=\"http://www.w3.org/2000/svg\" xmlns:xlink=\"http://www.w3.org/1999/xlink\">\r\n",
       "<g id=\"graph0\" class=\"graph\" transform=\"scale(1 1) rotate(0) translate(4 112)\">\r\n",
       "<title>%3</title>\r\n",
       "<polygon fill=\"white\" stroke=\"none\" points=\"-4,4 -4,-112 130,-112 130,4 -4,4\"/>\r\n",
       "<!-- A -->\r\n",
       "<g id=\"node1\" class=\"node\"><title>A</title>\r\n",
       "<ellipse fill=\"none\" stroke=\"black\" cx=\"63\" cy=\"-90\" rx=\"27\" ry=\"18\"/>\r\n",
       "<text text-anchor=\"middle\" x=\"63\" y=\"-86.3\" font-family=\"Times New Roman,serif\" font-size=\"14.00\">A</text>\r\n",
       "</g>\r\n",
       "<!-- B -->\r\n",
       "<g id=\"node2\" class=\"node\"><title>B</title>\r\n",
       "<ellipse fill=\"none\" stroke=\"black\" cx=\"27\" cy=\"-18\" rx=\"27\" ry=\"18\"/>\r\n",
       "<text text-anchor=\"middle\" x=\"27\" y=\"-14.3\" font-family=\"Times New Roman,serif\" font-size=\"14.00\">B</text>\r\n",
       "</g>\r\n",
       "<!-- A&#45;&gt;B -->\r\n",
       "<g id=\"edge1\" class=\"edge\"><title>A&#45;&gt;B</title>\r\n",
       "<path fill=\"none\" stroke=\"black\" d=\"M54.6504,-72.7646C50.2885,-64.2831 44.8531,-53.7144 39.9587,-44.1974\"/>\r\n",
       "<polygon fill=\"black\" stroke=\"black\" points=\"42.9904,-42.4395 35.3043,-35.1473 36.7654,-45.6409 42.9904,-42.4395\"/>\r\n",
       "</g>\r\n",
       "<!-- C -->\r\n",
       "<g id=\"node3\" class=\"node\"><title>C</title>\r\n",
       "<ellipse fill=\"none\" stroke=\"black\" cx=\"99\" cy=\"-18\" rx=\"27\" ry=\"18\"/>\r\n",
       "<text text-anchor=\"middle\" x=\"99\" y=\"-14.3\" font-family=\"Times New Roman,serif\" font-size=\"14.00\">C</text>\r\n",
       "</g>\r\n",
       "<!-- A&#45;&gt;C -->\r\n",
       "<g id=\"edge2\" class=\"edge\"><title>A&#45;&gt;C</title>\r\n",
       "<path fill=\"none\" stroke=\"black\" d=\"M71.3496,-72.7646C75.7115,-64.2831 81.1469,-53.7144 86.0413,-44.1974\"/>\r\n",
       "<polygon fill=\"black\" stroke=\"black\" points=\"89.2346,-45.6409 90.6957,-35.1473 83.0096,-42.4395 89.2346,-45.6409\"/>\r\n",
       "</g>\r\n",
       "</g>\r\n",
       "</svg>\r\n"
      ],
      "text/plain": [
       "<graphviz.dot.Digraph at 0x23f7ca0cb88>"
      ]
     },
     "execution_count": 19,
     "metadata": {},
     "output_type": "execute_result"
    }
   ],
   "source": [
    "from graphviz import Digraph\n",
    "dot = Digraph(comment = 'A graph')\n",
    "dot.node('A')\n",
    "dot.node('B')\n",
    "dot.node('C')\n",
    "dot.edge('A', 'B')\n",
    "dot.edge('A', 'C')\n",
    "dot"
   ]
  },
  {
   "cell_type": "markdown",
   "metadata": {},
   "source": [
    "We define a new function, search2, that sets up a graph which is then returned alongside the path. The additional lines vs. search1 are commented."
   ]
  },
  {
   "cell_type": "code",
   "execution_count": 20,
   "metadata": {
    "ExecuteTime": {
     "end_time": "2025-05-19T13:28:06.022830Z",
     "start_time": "2025-05-19T13:28:06.008822Z"
    }
   },
   "outputs": [],
   "source": [
    "def search2(s0, successors, checkGoal):\n",
    "    dot = Digraph(comment = 'Problem solution')                      # initialize graph\n",
    "    frontier = [[s0]]                           \n",
    "    dot.node(str(s0))                                                # add initial state to graph\n",
    "    explored = set()\n",
    "    print(s0)\n",
    "    explored.add(s0)\n",
    "    while frontier:\n",
    "        path = frontier.pop()\n",
    "        state = path[-1]\n",
    "        if checkGoal(state):\n",
    "            dot.node(str(state), str(state) + '\\nGOAL!')             # add goal label to node\n",
    "            return (path, dot)                                       # return path and graph\n",
    "        for action, nextState in successors(state):\n",
    "            if nextState not in explored:\n",
    "                dot.node(str(nextState))                             # add new node\n",
    "                dot.edge(str(state), str(nextState), label=action)   # add edge between nodes\n",
    "                frontier.append(path + [action, nextState])\n",
    "                explored.add(nextState)\n",
    "    return ([], dot)                                                 # return path and graph"
   ]
  },
  {
   "cell_type": "markdown",
   "metadata": {},
   "source": [
    "We can apply this to the same probem and view the output path together with the graph. Note that since we add the nodes after we've checked if the next states exist in the explored set, the leaf nodes represent states from which no new states are reachable. If you move the code that adds the node and edge before the check, then you'll see all the moves, including the ones that lead to an existing explored state. "
   ]
  },
  {
   "cell_type": "code",
   "execution_count": 21,
   "metadata": {
    "ExecuteTime": {
     "end_time": "2025-05-19T13:28:06.197402Z",
     "start_time": "2025-05-19T13:28:06.024832Z"
    }
   },
   "outputs": [
    {
     "name": "stdout",
     "output_type": "stream",
     "text": [
      "(0, 0)\n",
      "[(0, 0), 'fill 2', (0, 5), 'transfer 2 -> 1', (3, 2), 'empty 1', (0, 2), 'transfer 2 -> 1', (2, 0), 'fill 2', (2, 5), 'transfer 2 -> 1', (3, 4)]\n"
     ]
    },
    {
     "data": {
      "image/svg+xml": [
       "<?xml version=\"1.0\" encoding=\"UTF-8\" standalone=\"no\"?>\r\n",
       "<!DOCTYPE svg PUBLIC \"-//W3C//DTD SVG 1.1//EN\"\r\n",
       " \"http://www.w3.org/Graphics/SVG/1.1/DTD/svg11.dtd\">\r\n",
       "<!-- Generated by graphviz version 2.38.0 (20140413.2041)\r\n",
       " -->\r\n",
       "<!-- Title: %3 Pages: 1 -->\r\n",
       "<svg width=\"245pt\" height=\"584pt\"\r\n",
       " viewBox=\"0.00 0.00 244.55 583.74\" xmlns=\"http://www.w3.org/2000/svg\" xmlns:xlink=\"http://www.w3.org/1999/xlink\">\r\n",
       "<g id=\"graph0\" class=\"graph\" transform=\"scale(1 1) rotate(0) translate(4 579.74)\">\r\n",
       "<title>%3</title>\r\n",
       "<polygon fill=\"white\" stroke=\"none\" points=\"-4,4 -4,-579.74 240.547,-579.74 240.547,4 -4,4\"/>\r\n",
       "<!-- (0, 0) -->\r\n",
       "<g id=\"node1\" class=\"node\"><title>(0, 0)</title>\r\n",
       "<ellipse fill=\"none\" stroke=\"black\" cx=\"61.5473\" cy=\"-557.74\" rx=\"30.5947\" ry=\"18\"/>\r\n",
       "<text text-anchor=\"middle\" x=\"61.5473\" y=\"-554.04\" font-family=\"Times New Roman,serif\" font-size=\"14.00\">(0, 0)</text>\r\n",
       "</g>\r\n",
       "<!-- (3, 0) -->\r\n",
       "<g id=\"node2\" class=\"node\"><title>(3, 0)</title>\r\n",
       "<ellipse fill=\"none\" stroke=\"black\" cx=\"30.5473\" cy=\"-470.74\" rx=\"30.5947\" ry=\"18\"/>\r\n",
       "<text text-anchor=\"middle\" x=\"30.5473\" y=\"-467.04\" font-family=\"Times New Roman,serif\" font-size=\"14.00\">(3, 0)</text>\r\n",
       "</g>\r\n",
       "<!-- (0, 0)&#45;&gt;(3, 0) -->\r\n",
       "<g id=\"edge1\" class=\"edge\"><title>(0, 0)&#45;&gt;(3, 0)</title>\r\n",
       "<path fill=\"none\" stroke=\"black\" d=\"M54.0482,-540.136C51.5424,-534.361 48.8132,-527.81 46.5473,-521.74 43.7103,-514.141 40.9121,-505.782 38.4685,-498.111\"/>\r\n",
       "<polygon fill=\"black\" stroke=\"black\" points=\"41.8038,-497.049 35.4872,-488.543 35.1208,-499.132 41.8038,-497.049\"/>\r\n",
       "<text text-anchor=\"middle\" x=\"59.0473\" y=\"-510.54\" font-family=\"Times New Roman,serif\" font-size=\"14.00\">fill 1</text>\r\n",
       "</g>\r\n",
       "<!-- (0, 5) -->\r\n",
       "<g id=\"node3\" class=\"node\"><title>(0, 5)</title>\r\n",
       "<ellipse fill=\"none\" stroke=\"black\" cx=\"109.547\" cy=\"-470.74\" rx=\"30.5947\" ry=\"18\"/>\r\n",
       "<text text-anchor=\"middle\" x=\"109.547\" y=\"-467.04\" font-family=\"Times New Roman,serif\" font-size=\"14.00\">(0, 5)</text>\r\n",
       "</g>\r\n",
       "<!-- (0, 0)&#45;&gt;(0, 5) -->\r\n",
       "<g id=\"edge2\" class=\"edge\"><title>(0, 0)&#45;&gt;(0, 5)</title>\r\n",
       "<path fill=\"none\" stroke=\"black\" d=\"M70.8022,-540.351C77.7746,-528.004 87.4578,-510.857 95.3995,-496.793\"/>\r\n",
       "<polygon fill=\"black\" stroke=\"black\" points=\"98.4512,-498.507 100.321,-488.079 92.3559,-495.065 98.4512,-498.507\"/>\r\n",
       "<text text-anchor=\"middle\" x=\"102.047\" y=\"-510.54\" font-family=\"Times New Roman,serif\" font-size=\"14.00\">fill 2</text>\r\n",
       "</g>\r\n",
       "<!-- (3, 5) -->\r\n",
       "<g id=\"node4\" class=\"node\"><title>(3, 5)</title>\r\n",
       "<ellipse fill=\"none\" stroke=\"black\" cx=\"77.5473\" cy=\"-383.74\" rx=\"30.5947\" ry=\"18\"/>\r\n",
       "<text text-anchor=\"middle\" x=\"77.5473\" y=\"-380.04\" font-family=\"Times New Roman,serif\" font-size=\"14.00\">(3, 5)</text>\r\n",
       "</g>\r\n",
       "<!-- (0, 5)&#45;&gt;(3, 5) -->\r\n",
       "<g id=\"edge3\" class=\"edge\"><title>(0, 5)&#45;&gt;(3, 5)</title>\r\n",
       "<path fill=\"none\" stroke=\"black\" d=\"M101.487,-453.178C98.8089,-447.407 95.9104,-440.846 93.5473,-434.74 90.6198,-427.175 87.7939,-418.827 85.3529,-411.155\"/>\r\n",
       "<polygon fill=\"black\" stroke=\"black\" points=\"88.6899,-410.098 82.3895,-401.58 82.0029,-412.168 88.6899,-410.098\"/>\r\n",
       "<text text-anchor=\"middle\" x=\"106.047\" y=\"-423.54\" font-family=\"Times New Roman,serif\" font-size=\"14.00\">fill 1</text>\r\n",
       "</g>\r\n",
       "<!-- (3, 2) -->\r\n",
       "<g id=\"node5\" class=\"node\"><title>(3, 2)</title>\r\n",
       "<ellipse fill=\"none\" stroke=\"black\" cx=\"156.547\" cy=\"-383.74\" rx=\"30.5947\" ry=\"18\"/>\r\n",
       "<text text-anchor=\"middle\" x=\"156.547\" y=\"-380.04\" font-family=\"Times New Roman,serif\" font-size=\"14.00\">(3, 2)</text>\r\n",
       "</g>\r\n",
       "<!-- (0, 5)&#45;&gt;(3, 2) -->\r\n",
       "<g id=\"edge4\" class=\"edge\"><title>(0, 5)&#45;&gt;(3, 2)</title>\r\n",
       "<path fill=\"none\" stroke=\"black\" d=\"M118.609,-453.351C125.372,-441.122 134.738,-424.183 142.472,-410.196\"/>\r\n",
       "<polygon fill=\"black\" stroke=\"black\" points=\"145.737,-411.524 147.513,-401.079 139.611,-408.136 145.737,-411.524\"/>\r\n",
       "<text text-anchor=\"middle\" x=\"176.547\" y=\"-423.54\" font-family=\"Times New Roman,serif\" font-size=\"14.00\">transfer 2 &#45;&gt; 1</text>\r\n",
       "</g>\r\n",
       "<!-- (0, 2) -->\r\n",
       "<g id=\"node6\" class=\"node\"><title>(0, 2)</title>\r\n",
       "<ellipse fill=\"none\" stroke=\"black\" cx=\"156.547\" cy=\"-296.74\" rx=\"30.5947\" ry=\"18\"/>\r\n",
       "<text text-anchor=\"middle\" x=\"156.547\" y=\"-293.04\" font-family=\"Times New Roman,serif\" font-size=\"14.00\">(0, 2)</text>\r\n",
       "</g>\r\n",
       "<!-- (3, 2)&#45;&gt;(0, 2) -->\r\n",
       "<g id=\"edge5\" class=\"edge\"><title>(3, 2)&#45;&gt;(0, 2)</title>\r\n",
       "<path fill=\"none\" stroke=\"black\" d=\"M156.547,-365.539C156.547,-353.903 156.547,-338.288 156.547,-324.977\"/>\r\n",
       "<polygon fill=\"black\" stroke=\"black\" points=\"160.047,-324.916 156.547,-314.916 153.047,-324.916 160.047,-324.916\"/>\r\n",
       "<text text-anchor=\"middle\" x=\"179.547\" y=\"-336.54\" font-family=\"Times New Roman,serif\" font-size=\"14.00\">empty 1</text>\r\n",
       "</g>\r\n",
       "<!-- (2, 0) -->\r\n",
       "<g id=\"node7\" class=\"node\"><title>(2, 0)</title>\r\n",
       "<ellipse fill=\"none\" stroke=\"black\" cx=\"156.547\" cy=\"-209.74\" rx=\"30.5947\" ry=\"18\"/>\r\n",
       "<text text-anchor=\"middle\" x=\"156.547\" y=\"-206.04\" font-family=\"Times New Roman,serif\" font-size=\"14.00\">(2, 0)</text>\r\n",
       "</g>\r\n",
       "<!-- (0, 2)&#45;&gt;(2, 0) -->\r\n",
       "<g id=\"edge6\" class=\"edge\"><title>(0, 2)&#45;&gt;(2, 0)</title>\r\n",
       "<path fill=\"none\" stroke=\"black\" d=\"M156.547,-278.539C156.547,-266.903 156.547,-251.288 156.547,-237.977\"/>\r\n",
       "<polygon fill=\"black\" stroke=\"black\" points=\"160.047,-237.916 156.547,-227.916 153.047,-237.916 160.047,-237.916\"/>\r\n",
       "<text text-anchor=\"middle\" x=\"196.547\" y=\"-249.54\" font-family=\"Times New Roman,serif\" font-size=\"14.00\">transfer 2 &#45;&gt; 1</text>\r\n",
       "</g>\r\n",
       "<!-- (2, 5) -->\r\n",
       "<g id=\"node8\" class=\"node\"><title>(2, 5)</title>\r\n",
       "<ellipse fill=\"none\" stroke=\"black\" cx=\"156.547\" cy=\"-122.74\" rx=\"30.5947\" ry=\"18\"/>\r\n",
       "<text text-anchor=\"middle\" x=\"156.547\" y=\"-119.04\" font-family=\"Times New Roman,serif\" font-size=\"14.00\">(2, 5)</text>\r\n",
       "</g>\r\n",
       "<!-- (2, 0)&#45;&gt;(2, 5) -->\r\n",
       "<g id=\"edge7\" class=\"edge\"><title>(2, 0)&#45;&gt;(2, 5)</title>\r\n",
       "<path fill=\"none\" stroke=\"black\" d=\"M156.547,-191.539C156.547,-179.903 156.547,-164.288 156.547,-150.977\"/>\r\n",
       "<polygon fill=\"black\" stroke=\"black\" points=\"160.047,-150.916 156.547,-140.916 153.047,-150.916 160.047,-150.916\"/>\r\n",
       "<text text-anchor=\"middle\" x=\"169.047\" y=\"-162.54\" font-family=\"Times New Roman,serif\" font-size=\"14.00\">fill 2</text>\r\n",
       "</g>\r\n",
       "<!-- (3, 4) -->\r\n",
       "<g id=\"node9\" class=\"node\"><title>(3, 4)</title>\r\n",
       "<ellipse fill=\"none\" stroke=\"black\" cx=\"156.547\" cy=\"-26.8701\" rx=\"42.3529\" ry=\"26.7407\"/>\r\n",
       "<text text-anchor=\"middle\" x=\"156.547\" y=\"-30.6701\" font-family=\"Times New Roman,serif\" font-size=\"14.00\">(3, 4)</text>\r\n",
       "<text text-anchor=\"middle\" x=\"156.547\" y=\"-15.6701\" font-family=\"Times New Roman,serif\" font-size=\"14.00\">GOAL!</text>\r\n",
       "</g>\r\n",
       "<!-- (2, 5)&#45;&gt;(3, 4) -->\r\n",
       "<g id=\"edge8\" class=\"edge\"><title>(2, 5)&#45;&gt;(3, 4)</title>\r\n",
       "<path fill=\"none\" stroke=\"black\" d=\"M156.547,-104.523C156.547,-93.2193 156.547,-78.0091 156.547,-64.1179\"/>\r\n",
       "<polygon fill=\"black\" stroke=\"black\" points=\"160.047,-63.8389 156.547,-53.839 153.047,-63.839 160.047,-63.8389\"/>\r\n",
       "<text text-anchor=\"middle\" x=\"196.547\" y=\"-75.5401\" font-family=\"Times New Roman,serif\" font-size=\"14.00\">transfer 2 &#45;&gt; 1</text>\r\n",
       "</g>\r\n",
       "</g>\r\n",
       "</svg>\r\n"
      ],
      "text/plain": [
       "<graphviz.dot.Digraph at 0x23f7ca0f6c8>"
      ]
     },
     "execution_count": 21,
     "metadata": {},
     "output_type": "execute_result"
    }
   ],
   "source": [
    "solution_wp = search2(s0 = s0_wp,\n",
    "                      successors = partial(successors_wp, capacity1 = 3, capacity2 = 5),\n",
    "                      checkGoal = partial(checkGoal_wp, goal = 4))\n",
    "print(solution_wp[0])\n",
    "solution_wp[1]"
   ]
  },
  {
   "cell_type": "markdown",
   "metadata": {},
   "source": [
    "# Application to other problems "
   ]
  },
  {
   "attachments": {
    "image.png": {
     "image/png": "[encoded data removed]"
    }
   },
   "cell_type": "markdown",
   "metadata": {},
   "source": [
    "## Route finding\n",
    "The course looks at the following route-finding problem: you're in Romania, starting at Arad, and would like to get to Bucharest. You have the map that shows you how different cities are linked. To frame this as we did the water jug problem:\n",
    "- we use the location of the current city as the state, so that in this case the initial state is 'Arad'\n",
    "- we use the map below to define an adjency list that maps each city to every other city in can reach\n",
    "- we use the destination city, in this case 'Bucharest', to test if we've reached our goal\n",
    "\n",
    "Note that vs. the picture we end the network at Bucharest and do not include cities from that point.\n",
    "![image.png](attachment:image.png)"
   ]
  },
  {
   "cell_type": "code",
   "execution_count": 22,
   "metadata": {
    "ExecuteTime": {
     "end_time": "2025-05-19T13:28:06.228419Z",
     "start_time": "2025-05-19T13:28:06.200407Z"
    }
   },
   "outputs": [
    {
     "data": {
      "text/plain": [
       "{'Arad',\n",
       " 'Bucharest',\n",
       " 'Craiova',\n",
       " 'Drobeta',\n",
       " 'Fagaras',\n",
       " 'Lugoj',\n",
       " 'Mehadia',\n",
       " 'Oradea',\n",
       " 'Pitesti',\n",
       " 'Rimnicu Vilcea',\n",
       " 'Sibiu',\n",
       " 'Timisoara',\n",
       " 'Zerind'}"
      ]
     },
     "execution_count": 22,
     "metadata": {},
     "output_type": "execute_result"
    }
   ],
   "source": [
    "# initial state is current city, Arad\n",
    "from functools import reduce\n",
    "\n",
    "s0_rf = 'Arad'\n",
    "\n",
    "# define successors as city A -> city B\n",
    "# adjaceny list defined through dictionary\n",
    "# define action label as empty string since label not required on graph\n",
    "\n",
    "\n",
    "def successors_rf(state, citiesDict):\n",
    "    nextStates = citiesDict[state]\n",
    "    return [('', nstate) for nstate in nextStates]\n",
    "\n",
    "\n",
    "# check for goal state\n",
    "\n",
    "\n",
    "def checkGoal_rf(state, goalCity):\n",
    "    return goalCity == state\n",
    "\n",
    "\n",
    "citiesDict = \\\n",
    "    {'Arad': ['Zerind', 'Sibiu', 'Timisoara'],\n",
    "     'Zerind': ['Arad', 'Oradea'],\n",
    "     'Oradea': ['Zerind', 'Sibiu'],\n",
    "     'Timisoara': ['Arad', 'Lugoj'],\n",
    "     'Lugoj': ['Timisoara', 'Mehadia'],\n",
    "     'Mehadia': ['Lugoj', 'Drobeta'],\n",
    "     'Drobeta': ['Mehadia', 'Craiova'],\n",
    "     'Sibiu': ['Arad', 'Oradea', 'Fagaras', 'Rimnicu Vilcea'],\n",
    "     'Rimnicu Vilcea': ['Sibiu', 'Pitesti', 'Craiova'],\n",
    "     'Craiova': ['Drobeta', 'Rimnicu Vilcea', 'Pitesti'],\n",
    "     'Fagaras': ['Sibiu', 'Bucharest'],\n",
    "     'Pitesti': ['Craiova', 'Rimnicu Vilcea', 'Bucharest'],\n",
    "     'Bucharest': ['Pitesti', 'Fagaras']}\n",
    "\n",
    "# sense-check the adjacency list is correct i.e. no typos\n",
    "# pull out all the destinations\n",
    "set(reduce(lambda l1, l2: l1 + l2, [citiesDict[x] for x in citiesDict]))"
   ]
  },
  {
   "cell_type": "markdown",
   "metadata": {},
   "source": [
    "Now apply solve2 as we did for the water jug probem."
   ]
  },
  {
   "cell_type": "code",
   "execution_count": 23,
   "metadata": {
    "ExecuteTime": {
     "end_time": "2025-05-19T13:28:06.403378Z",
     "start_time": "2025-05-19T13:28:06.231410Z"
    }
   },
   "outputs": [
    {
     "name": "stdout",
     "output_type": "stream",
     "text": [
      "Arad\n",
      "['Arad', '', 'Timisoara', '', 'Lugoj', '', 'Mehadia', '', 'Drobeta', '', 'Craiova', '', 'Pitesti', '', 'Bucharest']\n"
     ]
    },
    {
     "data": {
      "image/svg+xml": [
       "<?xml version=\"1.0\" encoding=\"UTF-8\" standalone=\"no\"?>\r\n",
       "<!DOCTYPE svg PUBLIC \"-//W3C//DTD SVG 1.1//EN\"\r\n",
       " \"http://www.w3.org/Graphics/SVG/1.1/DTD/svg11.dtd\">\r\n",
       "<!-- Generated by graphviz version 2.38.0 (20140413.2041)\r\n",
       " -->\r\n",
       "<!-- Title: %3 Pages: 1 -->\r\n",
       "<svg width=\"327pt\" height=\"566pt\"\r\n",
       " viewBox=\"0.00 0.00 327.36 565.74\" xmlns=\"http://www.w3.org/2000/svg\" xmlns:xlink=\"http://www.w3.org/1999/xlink\">\r\n",
       "<g id=\"graph0\" class=\"graph\" transform=\"scale(1 1) rotate(0) translate(4 561.74)\">\r\n",
       "<title>%3</title>\r\n",
       "<polygon fill=\"white\" stroke=\"none\" points=\"-4,4 -4,-561.74 323.359,-561.74 323.359,4 -4,4\"/>\r\n",
       "<!-- Arad -->\r\n",
       "<g id=\"node1\" class=\"node\"><title>Arad</title>\r\n",
       "<ellipse fill=\"none\" stroke=\"black\" cx=\"116.447\" cy=\"-539.74\" rx=\"28.6953\" ry=\"18\"/>\r\n",
       "<text text-anchor=\"middle\" x=\"116.447\" y=\"-536.04\" font-family=\"Times New Roman,serif\" font-size=\"14.00\">Arad</text>\r\n",
       "</g>\r\n",
       "<!-- Zerind -->\r\n",
       "<g id=\"node2\" class=\"node\"><title>Zerind</title>\r\n",
       "<ellipse fill=\"none\" stroke=\"black\" cx=\"34.4469\" cy=\"-467.74\" rx=\"34.394\" ry=\"18\"/>\r\n",
       "<text text-anchor=\"middle\" x=\"34.4469\" y=\"-464.04\" font-family=\"Times New Roman,serif\" font-size=\"14.00\">Zerind</text>\r\n",
       "</g>\r\n",
       "<!-- Arad&#45;&gt;Zerind -->\r\n",
       "<g id=\"edge1\" class=\"edge\"><title>Arad&#45;&gt;Zerind</title>\r\n",
       "<path fill=\"none\" stroke=\"black\" d=\"M99.853,-524.575C88.2266,-514.65 72.4834,-501.21 59.3561,-490.004\"/>\r\n",
       "<polygon fill=\"black\" stroke=\"black\" points=\"61.4588,-487.197 51.5807,-483.366 56.9139,-492.521 61.4588,-487.197\"/>\r\n",
       "</g>\r\n",
       "<!-- Sibiu -->\r\n",
       "<g id=\"node3\" class=\"node\"><title>Sibiu</title>\r\n",
       "<ellipse fill=\"none\" stroke=\"black\" cx=\"116.447\" cy=\"-467.74\" rx=\"29.4969\" ry=\"18\"/>\r\n",
       "<text text-anchor=\"middle\" x=\"116.447\" y=\"-464.04\" font-family=\"Times New Roman,serif\" font-size=\"14.00\">Sibiu</text>\r\n",
       "</g>\r\n",
       "<!-- Arad&#45;&gt;Sibiu -->\r\n",
       "<g id=\"edge2\" class=\"edge\"><title>Arad&#45;&gt;Sibiu</title>\r\n",
       "<path fill=\"none\" stroke=\"black\" d=\"M116.447,-521.437C116.447,-513.723 116.447,-504.453 116.447,-495.853\"/>\r\n",
       "<polygon fill=\"black\" stroke=\"black\" points=\"119.947,-495.844 116.447,-485.844 112.947,-495.844 119.947,-495.844\"/>\r\n",
       "</g>\r\n",
       "<!-- Timisoara -->\r\n",
       "<g id=\"node4\" class=\"node\"><title>Timisoara</title>\r\n",
       "<ellipse fill=\"none\" stroke=\"black\" cx=\"210.447\" cy=\"-467.74\" rx=\"46.5926\" ry=\"18\"/>\r\n",
       "<text text-anchor=\"middle\" x=\"210.447\" y=\"-464.04\" font-family=\"Times New Roman,serif\" font-size=\"14.00\">Timisoara</text>\r\n",
       "</g>\r\n",
       "<!-- Arad&#45;&gt;Timisoara -->\r\n",
       "<g id=\"edge3\" class=\"edge\"><title>Arad&#45;&gt;Timisoara</title>\r\n",
       "<path fill=\"none\" stroke=\"black\" d=\"M134.128,-525.574C147.5,-515.616 166.144,-501.732 181.657,-490.179\"/>\r\n",
       "<polygon fill=\"black\" stroke=\"black\" points=\"183.97,-492.821 189.9,-484.041 179.789,-487.207 183.97,-492.821\"/>\r\n",
       "</g>\r\n",
       "<!-- Lugoj -->\r\n",
       "<g id=\"node5\" class=\"node\"><title>Lugoj</title>\r\n",
       "<ellipse fill=\"none\" stroke=\"black\" cx=\"210.447\" cy=\"-395.74\" rx=\"31.6951\" ry=\"18\"/>\r\n",
       "<text text-anchor=\"middle\" x=\"210.447\" y=\"-392.04\" font-family=\"Times New Roman,serif\" font-size=\"14.00\">Lugoj</text>\r\n",
       "</g>\r\n",
       "<!-- Timisoara&#45;&gt;Lugoj -->\r\n",
       "<g id=\"edge4\" class=\"edge\"><title>Timisoara&#45;&gt;Lugoj</title>\r\n",
       "<path fill=\"none\" stroke=\"black\" d=\"M210.447,-449.437C210.447,-441.723 210.447,-432.453 210.447,-423.853\"/>\r\n",
       "<polygon fill=\"black\" stroke=\"black\" points=\"213.947,-423.844 210.447,-413.844 206.947,-423.844 213.947,-423.844\"/>\r\n",
       "</g>\r\n",
       "<!-- Mehadia -->\r\n",
       "<g id=\"node6\" class=\"node\"><title>Mehadia</title>\r\n",
       "<ellipse fill=\"none\" stroke=\"black\" cx=\"210.447\" cy=\"-323.74\" rx=\"41.6928\" ry=\"18\"/>\r\n",
       "<text text-anchor=\"middle\" x=\"210.447\" y=\"-320.04\" font-family=\"Times New Roman,serif\" font-size=\"14.00\">Mehadia</text>\r\n",
       "</g>\r\n",
       "<!-- Lugoj&#45;&gt;Mehadia -->\r\n",
       "<g id=\"edge5\" class=\"edge\"><title>Lugoj&#45;&gt;Mehadia</title>\r\n",
       "<path fill=\"none\" stroke=\"black\" d=\"M210.447,-377.437C210.447,-369.723 210.447,-360.453 210.447,-351.853\"/>\r\n",
       "<polygon fill=\"black\" stroke=\"black\" points=\"213.947,-351.844 210.447,-341.844 206.947,-351.844 213.947,-351.844\"/>\r\n",
       "</g>\r\n",
       "<!-- Drobeta -->\r\n",
       "<g id=\"node7\" class=\"node\"><title>Drobeta</title>\r\n",
       "<ellipse fill=\"none\" stroke=\"black\" cx=\"210.447\" cy=\"-251.74\" rx=\"40.0939\" ry=\"18\"/>\r\n",
       "<text text-anchor=\"middle\" x=\"210.447\" y=\"-248.04\" font-family=\"Times New Roman,serif\" font-size=\"14.00\">Drobeta</text>\r\n",
       "</g>\r\n",
       "<!-- Mehadia&#45;&gt;Drobeta -->\r\n",
       "<g id=\"edge6\" class=\"edge\"><title>Mehadia&#45;&gt;Drobeta</title>\r\n",
       "<path fill=\"none\" stroke=\"black\" d=\"M210.447,-305.437C210.447,-297.723 210.447,-288.453 210.447,-279.853\"/>\r\n",
       "<polygon fill=\"black\" stroke=\"black\" points=\"213.947,-279.844 210.447,-269.844 206.947,-279.844 213.947,-279.844\"/>\r\n",
       "</g>\r\n",
       "<!-- Craiova -->\r\n",
       "<g id=\"node8\" class=\"node\"><title>Craiova</title>\r\n",
       "<ellipse fill=\"none\" stroke=\"black\" cx=\"210.447\" cy=\"-179.74\" rx=\"38.9931\" ry=\"18\"/>\r\n",
       "<text text-anchor=\"middle\" x=\"210.447\" y=\"-176.04\" font-family=\"Times New Roman,serif\" font-size=\"14.00\">Craiova</text>\r\n",
       "</g>\r\n",
       "<!-- Drobeta&#45;&gt;Craiova -->\r\n",
       "<g id=\"edge7\" class=\"edge\"><title>Drobeta&#45;&gt;Craiova</title>\r\n",
       "<path fill=\"none\" stroke=\"black\" d=\"M210.447,-233.437C210.447,-225.723 210.447,-216.453 210.447,-207.853\"/>\r\n",
       "<polygon fill=\"black\" stroke=\"black\" points=\"213.947,-207.844 210.447,-197.844 206.947,-207.844 213.947,-207.844\"/>\r\n",
       "</g>\r\n",
       "<!-- Rimnicu Vilcea -->\r\n",
       "<g id=\"node9\" class=\"node\"><title>Rimnicu Vilcea</title>\r\n",
       "<ellipse fill=\"none\" stroke=\"black\" cx=\"152.447\" cy=\"-107.74\" rx=\"65.7887\" ry=\"18\"/>\r\n",
       "<text text-anchor=\"middle\" x=\"152.447\" y=\"-104.04\" font-family=\"Times New Roman,serif\" font-size=\"14.00\">Rimnicu Vilcea</text>\r\n",
       "</g>\r\n",
       "<!-- Craiova&#45;&gt;Rimnicu Vilcea -->\r\n",
       "<g id=\"edge8\" class=\"edge\"><title>Craiova&#45;&gt;Rimnicu Vilcea</title>\r\n",
       "<path fill=\"none\" stroke=\"black\" d=\"M196.995,-162.505C189.779,-153.796 180.74,-142.887 172.693,-133.175\"/>\r\n",
       "<polygon fill=\"black\" stroke=\"black\" points=\"175.304,-130.841 166.229,-125.374 169.914,-135.307 175.304,-130.841\"/>\r\n",
       "</g>\r\n",
       "<!-- Pitesti -->\r\n",
       "<g id=\"node10\" class=\"node\"><title>Pitesti</title>\r\n",
       "<ellipse fill=\"none\" stroke=\"black\" cx=\"268.447\" cy=\"-107.74\" rx=\"32.4942\" ry=\"18\"/>\r\n",
       "<text text-anchor=\"middle\" x=\"268.447\" y=\"-104.04\" font-family=\"Times New Roman,serif\" font-size=\"14.00\">Pitesti</text>\r\n",
       "</g>\r\n",
       "<!-- Craiova&#45;&gt;Pitesti -->\r\n",
       "<g id=\"edge9\" class=\"edge\"><title>Craiova&#45;&gt;Pitesti</title>\r\n",
       "<path fill=\"none\" stroke=\"black\" d=\"M223.899,-162.505C231.324,-153.544 240.679,-142.253 248.898,-132.334\"/>\r\n",
       "<polygon fill=\"black\" stroke=\"black\" points=\"251.782,-134.339 255.467,-124.406 246.391,-129.873 251.782,-134.339\"/>\r\n",
       "</g>\r\n",
       "<!-- Bucharest -->\r\n",
       "<g id=\"node11\" class=\"node\"><title>Bucharest</title>\r\n",
       "<ellipse fill=\"none\" stroke=\"black\" cx=\"268.447\" cy=\"-26.8701\" rx=\"50.8235\" ry=\"26.7407\"/>\r\n",
       "<text text-anchor=\"middle\" x=\"268.447\" y=\"-30.6701\" font-family=\"Times New Roman,serif\" font-size=\"14.00\">Bucharest</text>\r\n",
       "<text text-anchor=\"middle\" x=\"268.447\" y=\"-15.6701\" font-family=\"Times New Roman,serif\" font-size=\"14.00\">GOAL!</text>\r\n",
       "</g>\r\n",
       "<!-- Pitesti&#45;&gt;Bucharest -->\r\n",
       "<g id=\"edge10\" class=\"edge\"><title>Pitesti&#45;&gt;Bucharest</title>\r\n",
       "<path fill=\"none\" stroke=\"black\" d=\"M268.447,-89.6265C268.447,-82.137 268.447,-73.0458 268.447,-64.168\"/>\r\n",
       "<polygon fill=\"black\" stroke=\"black\" points=\"271.947,-63.9529 268.447,-53.953 264.947,-63.953 271.947,-63.9529\"/>\r\n",
       "</g>\r\n",
       "</g>\r\n",
       "</svg>\r\n"
      ],
      "text/plain": [
       "<graphviz.dot.Digraph at 0x23f7ca40588>"
      ]
     },
     "execution_count": 23,
     "metadata": {},
     "output_type": "execute_result"
    }
   ],
   "source": [
    "solution_rf = search2(s0 = s0_rf,\n",
    "                      successors = partial(successors_rf, citiesDict = citiesDict),\n",
    "                      checkGoal = partial(checkGoal_rf, goalCity = 'Bucharest'))\n",
    "print(solution_rf[0])\n",
    "solution_rf[1]"
   ]
  },
  {
   "cell_type": "markdown",
   "metadata": {},
   "source": [
    "# Depth-first vs. breadth-first search"
   ]
  },
  {
   "cell_type": "markdown",
   "metadata": {},
   "source": [
    "- clear from the existing searches that we're not always finding the shortest route\n",
    "- that is, the shortest number of actions from the initial state to the goal state\n",
    "- illustrate this with the route-finding problem\n",
    "- from the map we can see that you can go from Arad to Bucharest in as little as 3 steps, though the current route takes seven steps\n",
    "- the reason for this is the order in which the frontier is explored\n",
    "\n",
    "- dfs vs. bfs\n",
    "- updated search function, search3, adds a couple of features:\n",
    "    - the node labels are appended with the order in which the states are added to the frontier\n",
    "    - the frontier is optionally sorted\n",
    "    "
   ]
  },
  {
   "cell_type": "code",
   "execution_count": 24,
   "metadata": {
    "ExecuteTime": {
     "end_time": "2025-05-19T13:28:06.419332Z",
     "start_time": "2025-05-19T13:28:06.405382Z"
    }
   },
   "outputs": [],
   "source": [
    "def search3(s0, successors, checkGoal, sortPaths = False):\n",
    "    dot = Digraph(comment = 'Problem solution')                      \n",
    "    nodeCount = 0\n",
    "    frontier = [[s0]]                           \n",
    "    dot.node(str(s0), str(s0) + '\\n' + str(nodeCount))   \n",
    "    nodeCount = nodeCount + 1\n",
    "    explored = set()\n",
    "    explored.add(s0)\n",
    "    while frontier:\n",
    "        path = frontier.pop()\n",
    "        state = path[-1]\n",
    "        if checkGoal(state):\n",
    "            dot.node(str(state), str(state) + '\\nGOAL!')             \n",
    "            return (path, dot)                                       \n",
    "        for action, nextState in successors(state):\n",
    "            if nextState not in explored:\n",
    "                dot.node(str(nextState), str(nextState) + '\\n' + str(nodeCount)) \n",
    "                nodeCount = nodeCount + 1\n",
    "                dot.edge(str(state), str(nextState), label=action)   \n",
    "                frontier.append(path + [action, nextState])\n",
    "                explored.add(nextState)\n",
    "        if sortPaths:\n",
    "            frontier.sort(key=len, reverse=True)        # sort frontier so that shortest paths are popped first\n",
    "    print(explored)\n",
    "    return ([], dot)                                                 "
   ]
  },
  {
   "cell_type": "code",
   "execution_count": 25,
   "metadata": {
    "ExecuteTime": {
     "end_time": "2025-05-19T13:28:06.593000Z",
     "start_time": "2025-05-19T13:28:06.422324Z"
    }
   },
   "outputs": [
    {
     "name": "stdout",
     "output_type": "stream",
     "text": [
      "['Arad', '', 'Timisoara', '', 'Lugoj', '', 'Mehadia', '', 'Drobeta', '', 'Craiova', '', 'Pitesti', '', 'Bucharest']\n"
     ]
    },
    {
     "data": {
      "image/svg+xml": [
       "<?xml version=\"1.0\" encoding=\"UTF-8\" standalone=\"no\"?>\r\n",
       "<!DOCTYPE svg PUBLIC \"-//W3C//DTD SVG 1.1//EN\"\r\n",
       " \"http://www.w3.org/Graphics/SVG/1.1/DTD/svg11.dtd\">\r\n",
       "<!-- Generated by graphviz version 2.38.0 (20140413.2041)\r\n",
       " -->\r\n",
       "<!-- Title: %3 Pages: 1 -->\r\n",
       "<svg width=\"347pt\" height=\"690pt\"\r\n",
       " viewBox=\"0.00 0.00 347.39 689.92\" xmlns=\"http://www.w3.org/2000/svg\" xmlns:xlink=\"http://www.w3.org/1999/xlink\">\r\n",
       "<g id=\"graph0\" class=\"graph\" transform=\"scale(1 1) rotate(0) translate(4 685.921)\">\r\n",
       "<title>%3</title>\r\n",
       "<polygon fill=\"white\" stroke=\"none\" points=\"-4,4 -4,-685.921 343.388,-685.921 343.388,4 -4,4\"/>\r\n",
       "<!-- Arad -->\r\n",
       "<g id=\"node1\" class=\"node\"><title>Arad</title>\r\n",
       "<ellipse fill=\"none\" stroke=\"black\" cx=\"124.477\" cy=\"-655.051\" rx=\"31.2258\" ry=\"26.7407\"/>\r\n",
       "<text text-anchor=\"middle\" x=\"124.477\" y=\"-658.851\" font-family=\"Times New Roman,serif\" font-size=\"14.00\">Arad</text>\r\n",
       "<text text-anchor=\"middle\" x=\"124.477\" y=\"-643.851\" font-family=\"Times New Roman,serif\" font-size=\"14.00\">0</text>\r\n",
       "</g>\r\n",
       "<!-- Zerind -->\r\n",
       "<g id=\"node2\" class=\"node\"><title>Zerind</title>\r\n",
       "<ellipse fill=\"none\" stroke=\"black\" cx=\"37.4767\" cy=\"-565.311\" rx=\"37.4533\" ry=\"26.7407\"/>\r\n",
       "<text text-anchor=\"middle\" x=\"37.4767\" y=\"-569.111\" font-family=\"Times New Roman,serif\" font-size=\"14.00\">Zerind</text>\r\n",
       "<text text-anchor=\"middle\" x=\"37.4767\" y=\"-554.111\" font-family=\"Times New Roman,serif\" font-size=\"14.00\">1</text>\r\n",
       "</g>\r\n",
       "<!-- Arad&#45;&gt;Zerind -->\r\n",
       "<g id=\"edge1\" class=\"edge\"><title>Arad&#45;&gt;Zerind</title>\r\n",
       "<path fill=\"none\" stroke=\"black\" d=\"M104.735,-634.141C93.252,-622.561 78.5826,-607.766 65.876,-594.952\"/>\r\n",
       "<polygon fill=\"black\" stroke=\"black\" points=\"68.1866,-592.311 58.6602,-587.674 63.2159,-597.24 68.1866,-592.311\"/>\r\n",
       "</g>\r\n",
       "<!-- Sibiu -->\r\n",
       "<g id=\"node3\" class=\"node\"><title>Sibiu</title>\r\n",
       "<ellipse fill=\"none\" stroke=\"black\" cx=\"124.477\" cy=\"-565.311\" rx=\"31.6406\" ry=\"26.7407\"/>\r\n",
       "<text text-anchor=\"middle\" x=\"124.477\" y=\"-569.111\" font-family=\"Times New Roman,serif\" font-size=\"14.00\">Sibiu</text>\r\n",
       "<text text-anchor=\"middle\" x=\"124.477\" y=\"-554.111\" font-family=\"Times New Roman,serif\" font-size=\"14.00\">2</text>\r\n",
       "</g>\r\n",
       "<!-- Arad&#45;&gt;Sibiu -->\r\n",
       "<g id=\"edge2\" class=\"edge\"><title>Arad&#45;&gt;Sibiu</title>\r\n",
       "<path fill=\"none\" stroke=\"black\" d=\"M124.477,-627.726C124.477,-619.759 124.477,-610.868 124.477,-602.38\"/>\r\n",
       "<polygon fill=\"black\" stroke=\"black\" points=\"127.977,-602.315 124.477,-592.315 120.977,-602.315 127.977,-602.315\"/>\r\n",
       "</g>\r\n",
       "<!-- Timisoara -->\r\n",
       "<g id=\"node4\" class=\"node\"><title>Timisoara</title>\r\n",
       "<ellipse fill=\"none\" stroke=\"black\" cx=\"225.477\" cy=\"-565.311\" rx=\"50.8235\" ry=\"26.7407\"/>\r\n",
       "<text text-anchor=\"middle\" x=\"225.477\" y=\"-569.111\" font-family=\"Times New Roman,serif\" font-size=\"14.00\">Timisoara</text>\r\n",
       "<text text-anchor=\"middle\" x=\"225.477\" y=\"-554.111\" font-family=\"Times New Roman,serif\" font-size=\"14.00\">3</text>\r\n",
       "</g>\r\n",
       "<!-- Arad&#45;&gt;Timisoara -->\r\n",
       "<g id=\"edge3\" class=\"edge\"><title>Arad&#45;&gt;Timisoara</title>\r\n",
       "<path fill=\"none\" stroke=\"black\" d=\"M145.896,-635.443C159.309,-623.792 176.872,-608.534 192.087,-595.317\"/>\r\n",
       "<polygon fill=\"black\" stroke=\"black\" points=\"194.54,-597.822 199.794,-588.621 189.95,-592.537 194.54,-597.822\"/>\r\n",
       "</g>\r\n",
       "<!-- Lugoj -->\r\n",
       "<g id=\"node5\" class=\"node\"><title>Lugoj</title>\r\n",
       "<ellipse fill=\"none\" stroke=\"black\" cx=\"225.477\" cy=\"-475.571\" rx=\"34.7971\" ry=\"26.7407\"/>\r\n",
       "<text text-anchor=\"middle\" x=\"225.477\" y=\"-479.371\" font-family=\"Times New Roman,serif\" font-size=\"14.00\">Lugoj</text>\r\n",
       "<text text-anchor=\"middle\" x=\"225.477\" y=\"-464.371\" font-family=\"Times New Roman,serif\" font-size=\"14.00\">4</text>\r\n",
       "</g>\r\n",
       "<!-- Timisoara&#45;&gt;Lugoj -->\r\n",
       "<g id=\"edge4\" class=\"edge\"><title>Timisoara&#45;&gt;Lugoj</title>\r\n",
       "<path fill=\"none\" stroke=\"black\" d=\"M225.477,-537.986C225.477,-530.019 225.477,-521.128 225.477,-512.64\"/>\r\n",
       "<polygon fill=\"black\" stroke=\"black\" points=\"228.977,-512.575 225.477,-502.575 221.977,-512.575 228.977,-512.575\"/>\r\n",
       "</g>\r\n",
       "<!-- Mehadia -->\r\n",
       "<g id=\"node6\" class=\"node\"><title>Mehadia</title>\r\n",
       "<ellipse fill=\"none\" stroke=\"black\" cx=\"225.477\" cy=\"-385.831\" rx=\"45.011\" ry=\"26.7407\"/>\r\n",
       "<text text-anchor=\"middle\" x=\"225.477\" y=\"-389.631\" font-family=\"Times New Roman,serif\" font-size=\"14.00\">Mehadia</text>\r\n",
       "<text text-anchor=\"middle\" x=\"225.477\" y=\"-374.631\" font-family=\"Times New Roman,serif\" font-size=\"14.00\">5</text>\r\n",
       "</g>\r\n",
       "<!-- Lugoj&#45;&gt;Mehadia -->\r\n",
       "<g id=\"edge5\" class=\"edge\"><title>Lugoj&#45;&gt;Mehadia</title>\r\n",
       "<path fill=\"none\" stroke=\"black\" d=\"M225.477,-448.246C225.477,-440.279 225.477,-431.388 225.477,-422.9\"/>\r\n",
       "<polygon fill=\"black\" stroke=\"black\" points=\"228.977,-422.834 225.477,-412.835 221.977,-422.835 228.977,-422.834\"/>\r\n",
       "</g>\r\n",
       "<!-- Drobeta -->\r\n",
       "<g id=\"node7\" class=\"node\"><title>Drobeta</title>\r\n",
       "<ellipse fill=\"none\" stroke=\"black\" cx=\"225.477\" cy=\"-296.09\" rx=\"43.6818\" ry=\"26.7407\"/>\r\n",
       "<text text-anchor=\"middle\" x=\"225.477\" y=\"-299.89\" font-family=\"Times New Roman,serif\" font-size=\"14.00\">Drobeta</text>\r\n",
       "<text text-anchor=\"middle\" x=\"225.477\" y=\"-284.89\" font-family=\"Times New Roman,serif\" font-size=\"14.00\">6</text>\r\n",
       "</g>\r\n",
       "<!-- Mehadia&#45;&gt;Drobeta -->\r\n",
       "<g id=\"edge6\" class=\"edge\"><title>Mehadia&#45;&gt;Drobeta</title>\r\n",
       "<path fill=\"none\" stroke=\"black\" d=\"M225.477,-358.506C225.477,-350.539 225.477,-341.648 225.477,-333.159\"/>\r\n",
       "<polygon fill=\"black\" stroke=\"black\" points=\"228.977,-333.094 225.477,-323.094 221.977,-333.094 228.977,-333.094\"/>\r\n",
       "</g>\r\n",
       "<!-- Craiova -->\r\n",
       "<g id=\"node8\" class=\"node\"><title>Craiova</title>\r\n",
       "<ellipse fill=\"none\" stroke=\"black\" cx=\"225.477\" cy=\"-206.35\" rx=\"42.3529\" ry=\"26.7407\"/>\r\n",
       "<text text-anchor=\"middle\" x=\"225.477\" y=\"-210.15\" font-family=\"Times New Roman,serif\" font-size=\"14.00\">Craiova</text>\r\n",
       "<text text-anchor=\"middle\" x=\"225.477\" y=\"-195.15\" font-family=\"Times New Roman,serif\" font-size=\"14.00\">7</text>\r\n",
       "</g>\r\n",
       "<!-- Drobeta&#45;&gt;Craiova -->\r\n",
       "<g id=\"edge7\" class=\"edge\"><title>Drobeta&#45;&gt;Craiova</title>\r\n",
       "<path fill=\"none\" stroke=\"black\" d=\"M225.477,-268.765C225.477,-260.799 225.477,-251.908 225.477,-243.419\"/>\r\n",
       "<polygon fill=\"black\" stroke=\"black\" points=\"228.977,-243.354 225.477,-233.354 221.977,-243.354 228.977,-243.354\"/>\r\n",
       "</g>\r\n",
       "<!-- Rimnicu Vilcea -->\r\n",
       "<g id=\"node9\" class=\"node\"><title>Rimnicu Vilcea</title>\r\n",
       "<ellipse fill=\"none\" stroke=\"black\" cx=\"163.477\" cy=\"-116.61\" rx=\"71.3357\" ry=\"26.7407\"/>\r\n",
       "<text text-anchor=\"middle\" x=\"163.477\" y=\"-120.41\" font-family=\"Times New Roman,serif\" font-size=\"14.00\">Rimnicu Vilcea</text>\r\n",
       "<text text-anchor=\"middle\" x=\"163.477\" y=\"-105.41\" font-family=\"Times New Roman,serif\" font-size=\"14.00\">8</text>\r\n",
       "</g>\r\n",
       "<!-- Craiova&#45;&gt;Rimnicu Vilcea -->\r\n",
       "<g id=\"edge8\" class=\"edge\"><title>Craiova&#45;&gt;Rimnicu Vilcea</title>\r\n",
       "<path fill=\"none\" stroke=\"black\" d=\"M208.535,-181.375C201.924,-172.02 194.232,-161.134 187.094,-151.032\"/>\r\n",
       "<polygon fill=\"black\" stroke=\"black\" points=\"189.893,-148.929 181.264,-142.782 184.177,-152.969 189.893,-148.929\"/>\r\n",
       "</g>\r\n",
       "<!-- Pitesti -->\r\n",
       "<g id=\"node10\" class=\"node\"><title>Pitesti</title>\r\n",
       "<ellipse fill=\"none\" stroke=\"black\" cx=\"288.477\" cy=\"-116.61\" rx=\"35.2113\" ry=\"26.7407\"/>\r\n",
       "<text text-anchor=\"middle\" x=\"288.477\" y=\"-120.41\" font-family=\"Times New Roman,serif\" font-size=\"14.00\">Pitesti</text>\r\n",
       "<text text-anchor=\"middle\" x=\"288.477\" y=\"-105.41\" font-family=\"Times New Roman,serif\" font-size=\"14.00\">9</text>\r\n",
       "</g>\r\n",
       "<!-- Craiova&#45;&gt;Pitesti -->\r\n",
       "<g id=\"edge9\" class=\"edge\"><title>Craiova&#45;&gt;Pitesti</title>\r\n",
       "<path fill=\"none\" stroke=\"black\" d=\"M242.692,-181.375C249.878,-171.366 258.324,-159.604 265.991,-148.926\"/>\r\n",
       "<polygon fill=\"black\" stroke=\"black\" points=\"268.945,-150.813 271.934,-140.649 263.259,-146.73 268.945,-150.813\"/>\r\n",
       "</g>\r\n",
       "<!-- Bucharest -->\r\n",
       "<g id=\"node11\" class=\"node\"><title>Bucharest</title>\r\n",
       "<ellipse fill=\"none\" stroke=\"black\" cx=\"288.477\" cy=\"-26.8701\" rx=\"50.8235\" ry=\"26.7407\"/>\r\n",
       "<text text-anchor=\"middle\" x=\"288.477\" y=\"-30.6701\" font-family=\"Times New Roman,serif\" font-size=\"14.00\">Bucharest</text>\r\n",
       "<text text-anchor=\"middle\" x=\"288.477\" y=\"-15.6701\" font-family=\"Times New Roman,serif\" font-size=\"14.00\">GOAL!</text>\r\n",
       "</g>\r\n",
       "<!-- Pitesti&#45;&gt;Bucharest -->\r\n",
       "<g id=\"edge10\" class=\"edge\"><title>Pitesti&#45;&gt;Bucharest</title>\r\n",
       "<path fill=\"none\" stroke=\"black\" d=\"M288.477,-89.2852C288.477,-81.3185 288.477,-72.4275 288.477,-63.9391\"/>\r\n",
       "<polygon fill=\"black\" stroke=\"black\" points=\"291.977,-63.874 288.477,-53.874 284.977,-63.8741 291.977,-63.874\"/>\r\n",
       "</g>\r\n",
       "</g>\r\n",
       "</svg>\r\n"
      ],
      "text/plain": [
       "<graphviz.dot.Digraph at 0x23f7ca20b48>"
      ]
     },
     "execution_count": 25,
     "metadata": {},
     "output_type": "execute_result"
    }
   ],
   "source": [
    "solution_rf = search3(s0 = s0_rf,\n",
    "                      successors = partial(successors_rf, citiesDict = citiesDict),\n",
    "                      checkGoal = partial(checkGoal_rf, goalCity = 'Bucharest'),\n",
    "                      sortPaths = False)\n",
    "print(solution_rf[0])\n",
    "solution_rf[1]"
   ]
  },
  {
   "cell_type": "markdown",
   "metadata": {},
   "source": [
    "# Weighted graphs"
   ]
  },
  {
   "cell_type": "markdown",
   "metadata": {},
   "source": [
    "- thus far the search algorithms have been based solely on connections\n",
    "- the bfs algorithm will find the shortest path in terms of how many steps\n",
    "- .....but in reality what may also matter is the cost for an individual step\n",
    "- in the route mapper example this is the distance between towns; we may prefer to drive 200 miles with 4 stops than 400 miles with 2 stops\n"
   ]
  }
 ],
 "metadata": {
  "kernelspec": {
   "display_name": "Python 3 (ipykernel)",
   "language": "python",
   "name": "python3"
  },
  "language_info": {
   "codemirror_mode": {
    "name": "ipython",
    "version": 3
   },
   "file_extension": ".py",
   "mimetype": "text/x-python",
   "name": "python",
   "nbconvert_exporter": "python",
   "pygments_lexer": "ipython3",
   "version": "3.7.11"
  },
  "toc": {
   "base_numbering": 1,
   "nav_menu": {},
   "number_sections": true,
   "sideBar": true,
   "skip_h1_title": false,
   "title_cell": "Table of Contents",
   "title_sidebar": "Contents",
   "toc_cell": false,
   "toc_position": {},
   "toc_section_display": true,
   "toc_window_display": true
  },
  "varInspector": {
   "cols": {
    "lenName": 16,
    "lenType": 16,
    "lenVar": 40
   },
   "kernels_config": {
    "python": {
     "delete_cmd_postfix": "",
     "delete_cmd_prefix": "del ",
     "library": "var_list.py",
     "varRefreshCmd": "print(var_dic_list())"
    },
    "r": {
     "delete_cmd_postfix": ") ",
     "delete_cmd_prefix": "rm(",
     "library": "var_list.r",
     "varRefreshCmd": "cat(var_dic_list()) "
    }
   },
   "types_to_exclude": [
    "module",
    "function",
    "builtin_function_or_method",
    "instance",
    "_Feature"
   ],
   "window_display": false
  }
 },
 "nbformat": 4,
 "nbformat_minor": 2
}
